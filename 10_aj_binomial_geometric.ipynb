{
  "cells": [
    {
      "cell_type": "markdown",
      "metadata": {
        "id": "view-in-github",
        "colab_type": "text"
      },
      "source": [
        "<a href=\"https://colab.research.google.com/github/adityajain2407/aj-dav-2-ref/blob/main/10_aj_binomial_geometric.ipynb\" target=\"_parent\"><img src=\"https://colab.research.google.com/assets/colab-badge.svg\" alt=\"Open In Colab\"/></a>"
      ]
    },
    {
      "cell_type": "code",
      "execution_count": 2,
      "id": "4eba1dac",
      "metadata": {
        "id": "4eba1dac"
      },
      "outputs": [],
      "source": [
        "import numpy as np\n",
        "import pandas as pd\n",
        "import seaborn as sns\n",
        "import matplotlib.pyplot as plt\n",
        "\n",
        "from scipy.stats import binom, geom\n",
        "import math"
      ]
    },
    {
      "cell_type": "code",
      "source": [
        "'''\n",
        "Binomial means - each trial as a fixed prob of success and we are counting the number of success\n",
        "\n",
        "Bernoli - is a special case of Binomial iwth n = 1 (one trial)\n",
        "'''"
      ],
      "metadata": {
        "colab": {
          "base_uri": "https://localhost:8080/",
          "height": 53
        },
        "id": "XDNJiLaFicYH",
        "outputId": "223c2d98-2aaf-4567-8e05-f98ee01f9754"
      },
      "id": "XDNJiLaFicYH",
      "execution_count": 3,
      "outputs": [
        {
          "output_type": "execute_result",
          "data": {
            "text/plain": [
              "'\\nBinomial means - each trial as a fixed prob of success and we are counting the number of success\\n\\nBernoli - is a special case of Binomial iwth n = 1 (one trial)\\n'"
            ],
            "application/vnd.google.colaboratory.intrinsic+json": {
              "type": "string"
            }
          },
          "metadata": {},
          "execution_count": 3
        }
      ]
    },
    {
      "cell_type": "markdown",
      "source": [],
      "metadata": {
        "id": "ZWNe4-Nni2Qn"
      },
      "id": "ZWNe4-Nni2Qn"
    },
    {
      "cell_type": "code",
      "source": [],
      "metadata": {
        "id": "TotLaECFicUP"
      },
      "id": "TotLaECFicUP",
      "execution_count": 3,
      "outputs": []
    },
    {
      "cell_type": "markdown",
      "id": "af649e8e",
      "metadata": {
        "heading_collapsed": true,
        "id": "af649e8e"
      },
      "source": [
        "# One interview \"One Trial\""
      ]
    },
    {
      "cell_type": "markdown",
      "id": "8b0d2631",
      "metadata": {
        "hidden": true,
        "id": "8b0d2631"
      },
      "source": [
        "Suppose you are giving one interview. Let X denote number of offer letters you can get. What are all the possible values that X can take?\n"
      ]
    },
    {
      "cell_type": "markdown",
      "id": "2293360b",
      "metadata": {
        "hidden": true,
        "id": "2293360b"
      },
      "source": [
        "n=1, X $\\in$ {0, 1}"
      ]
    },
    {
      "cell_type": "code",
      "execution_count": 4,
      "id": "c1b2527b",
      "metadata": {
        "hidden": true,
        "id": "c1b2527b"
      },
      "outputs": [],
      "source": [
        "p = 0.1 # 10% success rate"
      ]
    },
    {
      "cell_type": "code",
      "execution_count": 5,
      "id": "20c9a815",
      "metadata": {
        "hidden": true,
        "id": "20c9a815"
      },
      "outputs": [],
      "source": [
        "x_vals = [0, 1] # Number of offer letters"
      ]
    },
    {
      "cell_type": "code",
      "execution_count": 6,
      "id": "342c0787",
      "metadata": {
        "hidden": true,
        "colab": {
          "base_uri": "https://localhost:8080/"
        },
        "id": "342c0787",
        "outputId": "81799743-dcee-404e-f473-81f278b56228"
      },
      "outputs": [
        {
          "output_type": "execute_result",
          "data": {
            "text/plain": [
              "[0.9, 0.1]"
            ]
          },
          "metadata": {},
          "execution_count": 6
        }
      ],
      "source": [
        "probs = [1-p, p] # Probability of 0 or 1 offer letter\n",
        "probs"
      ]
    },
    {
      "cell_type": "code",
      "execution_count": 7,
      "id": "889901df",
      "metadata": {
        "hidden": true,
        "colab": {
          "base_uri": "https://localhost:8080/",
          "height": 448
        },
        "id": "889901df",
        "outputId": "2ce04c41-c7ac-4430-d434-8edfbb4337c9"
      },
      "outputs": [
        {
          "output_type": "execute_result",
          "data": {
            "text/plain": [
              "<Axes: >"
            ]
          },
          "metadata": {},
          "execution_count": 7
        },
        {
          "output_type": "display_data",
          "data": {
            "text/plain": [
              "<Figure size 640x480 with 1 Axes>"
            ],
            "image/png": "[encoded data removed]"
          },
          "metadata": {}
        }
      ],
      "source": [
        "sns.barplot(x=x_vals, y=probs)"
      ]
    },
    {
      "cell_type": "markdown",
      "id": "d1e077f0",
      "metadata": {
        "hidden": true,
        "id": "d1e077f0"
      },
      "source": [
        "For one trial, this probability mass function represents \"Bernoulli Distribution\"\n",
        "\n",
        "Bernoulli is a special case of Binomial with n = 1"
      ]
    },
    {
      "cell_type": "markdown",
      "id": "35af0af3",
      "metadata": {
        "heading_collapsed": true,
        "id": "35af0af3"
      },
      "source": [
        "# Two trials"
      ]
    },
    {
      "cell_type": "markdown",
      "id": "3572a17d",
      "metadata": {
        "hidden": true,
        "id": "3572a17d"
      },
      "source": [
        "Question: Suppose you are giving two interviews. Let X denote number of offer letters you can get. What are all the possible values that X can take?\n",
        "\n",
        "Answer: {0, 1, 2}"
      ]
    },
    {
      "cell_type": "code",
      "execution_count": 8,
      "id": "c442502e",
      "metadata": {
        "hidden": true,
        "id": "c442502e"
      },
      "outputs": [],
      "source": [
        "n = 2\n",
        "p = 0.1"
      ]
    },
    {
      "cell_type": "code",
      "execution_count": 9,
      "id": "00c7e756",
      "metadata": {
        "hidden": true,
        "id": "00c7e756"
      },
      "outputs": [],
      "source": [
        "x_vals = [0, 1, 2]"
      ]
    },
    {
      "cell_type": "code",
      "execution_count": 10,
      "id": "3b1fac59",
      "metadata": {
        "hidden": true,
        "colab": {
          "base_uri": "https://localhost:8080/"
        },
        "id": "3b1fac59",
        "outputId": "335ac736-e5b7-4311-d0c8-12efa670a285"
      },
      "outputs": [
        {
          "output_type": "execute_result",
          "data": {
            "text/plain": [
              "[0.81, 0.18000000000000002, 0.010000000000000002]"
            ]
          },
          "metadata": {},
          "execution_count": 10
        }
      ],
      "source": [
        "probs = [\n",
        "    (1 - p) * (1 - p), # prob of X=0\n",
        "    p*(1-p) + (1-p)*p, # prob of X = 1\n",
        "    p*p, # prob of X = 2\n",
        "]\n",
        "probs"
      ]
    },
    {
      "cell_type": "code",
      "execution_count": 11,
      "id": "01fd0471",
      "metadata": {
        "hidden": true,
        "colab": {
          "base_uri": "https://localhost:8080/",
          "height": 448
        },
        "id": "01fd0471",
        "outputId": "33644d43-8d7f-4498-a338-fee8fdd9844f"
      },
      "outputs": [
        {
          "output_type": "execute_result",
          "data": {
            "text/plain": [
              "<Axes: >"
            ]
          },
          "metadata": {},
          "execution_count": 11
        },
        {
          "output_type": "display_data",
          "data": {
            "text/plain": [
              "<Figure size 640x480 with 1 Axes>"
            ],
            "image/png": "[encoded data removed]"
          },
          "metadata": {}
        }
      ],
      "source": [
        "sns.barplot(x=x_vals, y=probs) # PMF: probability mass function"
      ]
    },
    {
      "cell_type": "markdown",
      "id": "32b6e387",
      "metadata": {
        "id": "32b6e387"
      },
      "source": [
        "# Three trials (n=3)"
      ]
    },
    {
      "cell_type": "code",
      "execution_count": 12,
      "id": "41502b99",
      "metadata": {
        "id": "41502b99"
      },
      "outputs": [],
      "source": [
        "p = 0.1 # probability of success"
      ]
    },
    {
      "cell_type": "code",
      "execution_count": 13,
      "id": "4c79bc04",
      "metadata": {
        "id": "4c79bc04"
      },
      "outputs": [],
      "source": [
        "x_vals = [0, 1, 2, 3]"
      ]
    },
    {
      "cell_type": "code",
      "execution_count": 14,
      "id": "1ce2d0d2",
      "metadata": {
        "code_folding": [
          0
        ],
        "id": "1ce2d0d2"
      },
      "outputs": [],
      "source": [
        "probs = [\n",
        "    (1-p)*(1-p)*(1-p), #X=0\n",
        "    (1-p)*(1-p)*p + (1-p)*p*(1-p) + p*(1-p)*(1-p), #X=1\n",
        "    (1-p)*p*p + p*p*(1-p) + p*(1-p)*p, #X=2\n",
        "    p*p*p, #X=3\n",
        "]"
      ]
    },
    {
      "cell_type": "code",
      "execution_count": 15,
      "id": "a1d3740f",
      "metadata": {
        "colab": {
          "base_uri": "https://localhost:8080/"
        },
        "id": "a1d3740f",
        "outputId": "5a172868-e87a-4460-e6be-b34b935c6263"
      },
      "outputs": [
        {
          "output_type": "execute_result",
          "data": {
            "text/plain": [
              "[0.7290000000000001,\n",
              " 0.24300000000000005,\n",
              " 0.027000000000000003,\n",
              " 0.0010000000000000002]"
            ]
          },
          "metadata": {},
          "execution_count": 15
        }
      ],
      "source": [
        "probs"
      ]
    },
    {
      "cell_type": "code",
      "execution_count": 16,
      "id": "8d6e151d",
      "metadata": {
        "colab": {
          "base_uri": "https://localhost:8080/",
          "height": 448
        },
        "id": "8d6e151d",
        "outputId": "6c7764b1-51d3-4469-e8e3-5c18242bdba9"
      },
      "outputs": [
        {
          "output_type": "execute_result",
          "data": {
            "text/plain": [
              "<Axes: >"
            ]
          },
          "metadata": {},
          "execution_count": 16
        },
        {
          "output_type": "display_data",
          "data": {
            "text/plain": [
              "<Figure size 640x480 with 1 Axes>"
            ],
            "image/png": "[encoded data removed]"
          },
          "metadata": {}
        }
      ],
      "source": [
        "sns.barplot(x=x_vals, y=probs)\n"
      ]
    },
    {
      "cell_type": "code",
      "execution_count": 17,
      "id": "e871d2b9",
      "metadata": {
        "colab": {
          "base_uri": "https://localhost:8080/",
          "height": 448
        },
        "id": "e871d2b9",
        "outputId": "026621b5-80f5-4429-f37c-362754385a7f"
      },
      "outputs": [
        {
          "output_type": "execute_result",
          "data": {
            "text/plain": [
              "<Axes: >"
            ]
          },
          "metadata": {},
          "execution_count": 17
        },
        {
          "output_type": "display_data",
          "data": {
            "text/plain": [
              "<Figure size 640x480 with 1 Axes>"
            ],
            "image/png": "[encoded data removed]"
          },
          "metadata": {}
        }
      ],
      "source": [
        "probs_binom = binom.pmf(x_vals, n=3, p=0.1) #giving x-vals just to get prob for all x\n",
        "sns.barplot(x=x_vals, y=probs_binom)"
      ]
    },
    {
      "cell_type": "code",
      "source": [
        "probs_binom = binom.pmf(0, n=3, p=0.1) #when want prob for a given x only\n",
        "probs_binom"
      ],
      "metadata": {
        "colab": {
          "base_uri": "https://localhost:8080/"
        },
        "id": "4sTNJdFRnjI2",
        "outputId": "09bddb2d-e657-4da2-b6ab-d880f1bd2acd"
      },
      "id": "4sTNJdFRnjI2",
      "execution_count": 33,
      "outputs": [
        {
          "output_type": "execute_result",
          "data": {
            "text/plain": [
              "0.7290000000000001"
            ]
          },
          "metadata": {},
          "execution_count": 33
        }
      ]
    },
    {
      "cell_type": "markdown",
      "id": "8d839dc7",
      "metadata": {
        "heading_collapsed": true,
        "id": "8d839dc7"
      },
      "source": [
        "# N Trials"
      ]
    },
    {
      "cell_type": "code",
      "source": [
        "n = 10\n",
        "p = 0.1\n",
        "x_vals = np.arange(0, n+1)\n",
        "probs_binom = binom.pmf(x_vals, n=n, p=p)\n",
        "sns.barplot(x=x_vals, y=probs_binom)\n",
        "\n",
        "#interpretation--> if i give 10 interviews with success rate of offerletter as 0.1, then I am most lifekly to get 0 or 1 offer letter"
      ],
      "metadata": {
        "colab": {
          "base_uri": "https://localhost:8080/",
          "height": 448
        },
        "id": "8c8_l7UjoNQt",
        "outputId": "02c79845-43ea-47e8-e964-20c5cbcb6e54"
      },
      "id": "8c8_l7UjoNQt",
      "execution_count": 34,
      "outputs": [
        {
          "output_type": "execute_result",
          "data": {
            "text/plain": [
              "<Axes: >"
            ]
          },
          "metadata": {},
          "execution_count": 34
        },
        {
          "output_type": "display_data",
          "data": {
            "text/plain": [
              "<Figure size 640x480 with 1 Axes>"
            ],
            "image/png": "[encoded data removed]"
          },
          "metadata": {}
        }
      ]
    },
    {
      "cell_type": "code",
      "source": [
        "n = 15 #just play around with it\n",
        "p = 0.1 #run this for 0.3, 0.5, 0.7 and show the behavviour\n",
        "x_vals = np.arange(0, n+1)\n",
        "probs_binom = binom.pmf(x_vals, n=n, p=p)\n",
        "sns.barplot(x=x_vals, y=probs_binom)\n",
        "\n",
        "\n",
        "#extra - with 3 outcomes - its called multinomial = as in coin toss and succ/fail only 2 outcome - so binomial"
      ],
      "metadata": {
        "colab": {
          "base_uri": "https://localhost:8080/",
          "height": 448
        },
        "id": "D2DkGmmxoqke",
        "outputId": "225a4799-5de9-469f-ea5c-20bf6af6dac6"
      },
      "id": "D2DkGmmxoqke",
      "execution_count": 37,
      "outputs": [
        {
          "output_type": "execute_result",
          "data": {
            "text/plain": [
              "<Axes: >"
            ]
          },
          "metadata": {},
          "execution_count": 37
        },
        {
          "output_type": "display_data",
          "data": {
            "text/plain": [
              "<Figure size 640x480 with 1 Axes>"
            ],
            "image/png": "[encoded data removed]"
          },
          "metadata": {}
        }
      ]
    },
    {
      "cell_type": "code",
      "execution_count": 19,
      "id": "7c7adb10",
      "metadata": {
        "hidden": true,
        "colab": {
          "base_uri": "https://localhost:8080/",
          "height": 448
        },
        "id": "7c7adb10",
        "outputId": "0dc6262e-2fde-4596-a1d5-c3689406f14e"
      },
      "outputs": [
        {
          "output_type": "execute_result",
          "data": {
            "text/plain": [
              "<Axes: >"
            ]
          },
          "metadata": {},
          "execution_count": 19
        },
        {
          "output_type": "display_data",
          "data": {
            "text/plain": [
              "<Figure size 640x480 with 1 Axes>"
            ],
            "image/png": "[encoded data removed]"
          },
          "metadata": {}
        }
      ],
      "source": [
        "n = 15\n",
        "p = 0.5\n",
        "x_vals = np.arange(0, n+1)\n",
        "probs_binom = binom.pmf(x_vals, n=n, p=p)\n",
        "sns.barplot(x=x_vals, y=probs_binom)"
      ]
    },
    {
      "cell_type": "markdown",
      "id": "46f50ca7",
      "metadata": {
        "id": "46f50ca7"
      },
      "source": [
        "# Binomial formula"
      ]
    },
    {
      "cell_type": "code",
      "execution_count": 20,
      "id": "9eb1459b",
      "metadata": {
        "id": "9eb1459b"
      },
      "outputs": [],
      "source": [
        "n = 15\n",
        "p = 0.1\n",
        "#from n boxes, no of ways to select k boxes. - once i put success tlo k boxes, remakning are automatocally failures"
      ]
    },
    {
      "cell_type": "code",
      "execution_count": 21,
      "id": "bc98f910",
      "metadata": {
        "colab": {
          "base_uri": "https://localhost:8080/"
        },
        "id": "bc98f910",
        "outputId": "35131e62-d274-4375-d926-1db7c9c91230"
      },
      "outputs": [
        {
          "output_type": "execute_result",
          "data": {
            "text/plain": [
              "0.1285054390988551"
            ]
          },
          "metadata": {},
          "execution_count": 21
        }
      ],
      "source": [
        "binom.pmf(k=3, n=n, p=p) # nCk p^k (1-p)^{n-k} -- this formula is used for each k, to find using pmf method"
      ]
    },
    {
      "cell_type": "code",
      "execution_count": 22,
      "id": "4c02dbec",
      "metadata": {
        "colab": {
          "base_uri": "https://localhost:8080/"
        },
        "id": "4c02dbec",
        "outputId": "9b6c5330-bc12-49ee-a229-b208e94c503b"
      },
      "outputs": [
        {
          "output_type": "execute_result",
          "data": {
            "text/plain": [
              "0.1285054390988551"
            ]
          },
          "metadata": {},
          "execution_count": 22
        }
      ],
      "source": [
        "math.comb(n, 3) * p**3 * (1-p)**(n-3) #aath.comb is nck"
      ]
    },
    {
      "cell_type": "code",
      "execution_count": 23,
      "id": "5b4eeb19",
      "metadata": {
        "colab": {
          "base_uri": "https://localhost:8080/"
        },
        "id": "5b4eeb19",
        "outputId": "eb16707d-0d04-4bd5-bcfb-3e7398a5603c"
      },
      "outputs": [
        {
          "output_type": "execute_result",
          "data": {
            "text/plain": [
              "0.027000000000000007"
            ]
          },
          "metadata": {},
          "execution_count": 23
        }
      ],
      "source": [
        "math.comb(3, 2) * 0.1**2 * 0.9*1"
      ]
    },
    {
      "cell_type": "markdown",
      "id": "acac7f43",
      "metadata": {
        "heading_collapsed": true,
        "id": "acac7f43"
      },
      "source": [
        "# Geometric"
      ]
    },
    {
      "cell_type": "code",
      "source": [
        "#here we are interested in no.of intervewis as number of offer letrer is foxed to 1 - first success"
      ],
      "metadata": {
        "id": "2POkSXTXs3n6"
      },
      "id": "2POkSXTXs3n6",
      "execution_count": null,
      "outputs": []
    },
    {
      "cell_type": "markdown",
      "id": "c3010b96",
      "metadata": {
        "hidden": true,
        "id": "c3010b96"
      },
      "source": [
        "X: Number of interviews till first success"
      ]
    },
    {
      "cell_type": "code",
      "execution_count": 24,
      "id": "7a5c4e95",
      "metadata": {
        "hidden": true,
        "id": "7a5c4e95"
      },
      "outputs": [],
      "source": [
        "p = 0.1"
      ]
    },
    {
      "cell_type": "code",
      "execution_count": 25,
      "id": "4cfd8e77",
      "metadata": {
        "hidden": true,
        "id": "4cfd8e77"
      },
      "outputs": [],
      "source": [
        "x_vals = np.arange(1, 20) # technically, infinite values"
      ]
    },
    {
      "cell_type": "code",
      "execution_count": 26,
      "id": "4226e54c",
      "metadata": {
        "hidden": true,
        "id": "4226e54c"
      },
      "outputs": [],
      "source": [
        "probs_geom = geom.pmf(x_vals, p=p)"
      ]
    },
    {
      "cell_type": "code",
      "execution_count": 27,
      "id": "8cb97a9a",
      "metadata": {
        "hidden": true,
        "colab": {
          "base_uri": "https://localhost:8080/",
          "height": 448
        },
        "id": "8cb97a9a",
        "outputId": "3f06bb84-cc2a-4e83-9915-d694d46bf949"
      },
      "outputs": [
        {
          "output_type": "execute_result",
          "data": {
            "text/plain": [
              "<Axes: >"
            ]
          },
          "metadata": {},
          "execution_count": 27
        },
        {
          "output_type": "display_data",
          "data": {
            "text/plain": [
              "<Figure size 640x480 with 1 Axes>"
            ],
            "image/png": "[encoded data removed]"
          },
          "metadata": {}
        }
      ],
      "source": [
        "sns.barplot(x=x_vals, y=probs_geom) #each next val prob os getting multiplied by 0.9 = and this can go pm"
      ]
    },
    {
      "cell_type": "markdown",
      "id": "59e0cc20",
      "metadata": {
        "id": "59e0cc20"
      },
      "source": [
        "# Binomial CDF"
      ]
    },
    {
      "cell_type": "markdown",
      "id": "eafb15d5",
      "metadata": {
        "id": "eafb15d5"
      },
      "source": [
        "Messi and penalty:\n",
        "Success rate is 80%"
      ]
    },
    {
      "cell_type": "markdown",
      "id": "0a94e305",
      "metadata": {
        "id": "0a94e305"
      },
      "source": [
        "He kicks 10 times. What is the probability of having 7 or less successes?"
      ]
    },
    {
      "cell_type": "code",
      "execution_count": 28,
      "id": "e1e30949",
      "metadata": {
        "id": "e1e30949"
      },
      "outputs": [],
      "source": [
        "n = 10\n",
        "p = 0.8"
      ]
    },
    {
      "cell_type": "code",
      "execution_count": 29,
      "id": "7d7e5715",
      "metadata": {
        "colab": {
          "base_uri": "https://localhost:8080/"
        },
        "id": "7d7e5715",
        "outputId": "f42aedcb-fca6-4cc5-ea43-18d725002d6e"
      },
      "outputs": [
        {
          "output_type": "execute_result",
          "data": {
            "text/plain": [
              "0.32220047359999987"
            ]
          },
          "metadata": {},
          "execution_count": 29
        }
      ],
      "source": [
        "binom.cdf(k=7, n=n, p=p)"
      ]
    },
    {
      "cell_type": "code",
      "execution_count": 30,
      "id": "2a6c873b",
      "metadata": {
        "colab": {
          "base_uri": "https://localhost:8080/"
        },
        "id": "2a6c873b",
        "outputId": "acfbf7d0-e9c3-42d6-db9c-0957ab11153d"
      },
      "outputs": [
        {
          "output_type": "execute_result",
          "data": {
            "text/plain": [
              "0.3222004735999996"
            ]
          },
          "metadata": {},
          "execution_count": 30
        }
      ],
      "source": [
        "np.sum([binom.pmf(k=i, n=n, p=p) for i in np.arange(0, 8)]) #adding all the pmf from 0 to 7 (k)\n",
        "#cdf is sum of individual pmfs (usually when <= asked = cumulative)"
      ]
    },
    {
      "cell_type": "code",
      "execution_count": 31,
      "id": "b777ff61",
      "metadata": {
        "colab": {
          "base_uri": "https://localhost:8080/"
        },
        "id": "b777ff61",
        "outputId": "21e7c1dd-b541-4b33-8077-2b19142d5936"
      },
      "outputs": [
        {
          "output_type": "execute_result",
          "data": {
            "text/plain": [
              "0.3222004735999996"
            ]
          },
          "metadata": {},
          "execution_count": 31
        }
      ],
      "source": [
        "prob = 0\n",
        "for i in range(8):\n",
        "    prob += binom.pmf(k=i, n=n, p=p)\n",
        "prob"
      ]
    },
    {
      "cell_type": "code",
      "source": [
        "#usually we will solve x<=4 types of questions using compleement : 1- x<= format as cdf is avialalbe which captures 0 to i in one go"
      ],
      "metadata": {
        "id": "w_bwAWP2vtKQ"
      },
      "id": "w_bwAWP2vtKQ",
      "execution_count": null,
      "outputs": []
    },
    {
      "cell_type": "code",
      "source": [
        "#praactical usecaser - as an HR how many intervaiews shall I take to get my first hire candidate"
      ],
      "metadata": {
        "id": "zR0wnDxJwJWO"
      },
      "id": "zR0wnDxJwJWO",
      "execution_count": null,
      "outputs": []
    },
    {
      "cell_type": "markdown",
      "source": [],
      "metadata": {
        "id": "VbzXGVAivso9"
      },
      "id": "VbzXGVAivso9"
    }
  ],
  "metadata": {
    "kernelspec": {
      "display_name": "Python 3 (ipykernel)",
      "language": "python",
      "name": "python3"
    },
    "language_info": {
      "codemirror_mode": {
        "name": "ipython",
        "version": 3
      },
      "file_extension": ".py",
      "mimetype": "text/x-python",
      "name": "python",
      "nbconvert_exporter": "python",
      "pygments_lexer": "ipython3",
      "version": "3.8.12"
    },
    "colab": {
      "provenance": [],
      "include_colab_link": true
    }
  },
  "nbformat": 4,
  "nbformat_minor": 5
}